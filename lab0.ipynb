{
 "cells": [
  {
   "cell_type": "code",
   "execution_count": 1,
   "id": "47467d41-ffa2-4eb3-864d-4b5ef7b1f817",
   "metadata": {},
   "outputs": [
    {
     "name": "stdout",
     "output_type": "stream",
     "text": [
      "Qiskit version: 2.0.3\n",
      "Grader version: 0.22.9\n"
     ]
    }
   ],
   "source": [
    "import qiskit\n",
    "import qc_grader\n",
    "\n",
    "print(f\"Qiskit version: {qiskit.__version__}\")\n",
    "print(f\"Grader version: {qc_grader.__version__}\")\n"
   ]
  },
  {
   "cell_type": "code",
   "execution_count": 2,
   "id": "ede8e7ca-0dd6-41d9-a542-2911744daf07",
   "metadata": {},
   "outputs": [],
   "source": [
    "# Save your API key to track your progress and have access to the quantum computers\n",
    "\n",
    "your_api_key = \"\"\n",
    "your_crn = \"\n",
    "\n",
    "from qiskit_ibm_runtime import QiskitRuntimeService\n",
    "\n",
    "QiskitRuntimeService.save_account(\n",
    "    channel=\"ibm_quantum_platform\",\n",
    "    token=your_api_key,\n",
    "    instance=your_crn,\n",
    "    name=\"qgss-2025\",\n",
    "    overwrite=True\n",
    ")\n"
   ]
  },
  {
   "cell_type": "code",
   "execution_count": 4,
   "id": "2a41a7c3-33d7-4663-83be-49f28e0f2d4d",
   "metadata": {},
   "outputs": [
    {
     "name": "stderr",
     "output_type": "stream",
     "text": [
      "Matplotlib is building the font cache; this may take a moment.\n"
     ]
    }
   ],
   "source": [
    "import matplotlib.pyplot as plt\n",
    "\n",
    "from qiskit import QuantumCircuit, generate_preset_pass_manager\n",
    "from qiskit.visualization import plot_histogram\n",
    "from qiskit.quantum_info import SparsePauliOp\n",
    "\n",
    "from qiskit_ibm_runtime import QiskitRuntimeService, SamplerV2 as Sampler, EstimatorV2 as Estimator\n",
    "\n",
    "from qiskit_aer import AerSimulator\n",
    "\n",
    "from qc_grader.challenges.qgss_2025 import grade_lab0_ex1, grade_lab0_ex2\n"
   ]
  },
  {
   "cell_type": "code",
   "execution_count": 5,
   "id": "b74a1986-6295-4351-b7ce-8cb446379572",
   "metadata": {},
   "outputs": [
    {
     "data": {
      "image/png": "[encoded data removed]",
      "text/plain": [
       "<Figure size 287.294x200.667 with 1 Axes>"
      ]
     },
     "execution_count": 5,
     "metadata": {},
     "output_type": "execute_result"
    }
   ],
   "source": [
    "# Create a new circuit with a single qubit\n",
    "qc = QuantumCircuit(2)\n",
    "# Add a H gate to qubit 0\n",
    "qc.h(0)\n",
    "# Add a CNOT gate to qubit 1\n",
    "qc.cx(0, 1)\n",
    "# Return a drawing of the circuit using MatPlotLib (\"mpl\").\n",
    "qc.draw(\"mpl\")\n"
   ]
  },
  {
   "cell_type": "code",
   "execution_count": 6,
   "id": "12fa875e-0abf-46b7-8e24-7c4a1659576c",
   "metadata": {},
   "outputs": [
    {
     "data": {
      "image/png": "[encoded data removed]",
      "text/plain": [
       "<Figure size 371.107x284.278 with 1 Axes>"
      ]
     },
     "execution_count": 6,
     "metadata": {},
     "output_type": "execute_result"
    }
   ],
   "source": [
    "from qiskit import QuantumCircuit\n",
    "\n",
    "# Create a new circuit with three qubits\n",
    "qc = QuantumCircuit(3)\n",
    "\n",
    "### WRITE YOUR CODE BELOW HERE ###\n",
    "# Add a H gate to qubit 0\n",
    "qc.h(0)\n",
    "\n",
    "# Add a CNOT gate to qubits 0 and 1\n",
    "qc.cx(0, 1)\n",
    "\n",
    "# Add a CNOT gate to qubits 1 and 2\n",
    "qc.cx(1, 2)\n",
    "### YOUR CODE FINISHES HERE    ###\n",
    "\n",
    "# Return a drawing of the circuit using MatPlotLib (\"mpl\").\n",
    "qc.draw(\"mpl\")\n"
   ]
  },
  {
   "cell_type": "code",
   "execution_count": 7,
   "id": "cc07c587-061b-45d4-892f-17321417265d",
   "metadata": {},
   "outputs": [
    {
     "name": "stdout",
     "output_type": "stream",
     "text": [
      "Submitting your answer. Please wait...\n",
      "Congratulations 🎉! Your answer is correct and has been submitted.\n"
     ]
    }
   ],
   "source": [
    "# Submit your answer using following code\n",
    "grade_lab0_ex1(qc)\n"
   ]
  },
  {
   "cell_type": "code",
   "execution_count": 8,
   "id": "16cc3944-002d-4adf-827f-50ac9a57a97d",
   "metadata": {},
   "outputs": [
    {
     "data": {
      "image/png": "[encoded data removed]",
      "text/plain": [
       "<Figure size 507.401x284.278 with 1 Axes>"
      ]
     },
     "execution_count": 8,
     "metadata": {},
     "output_type": "execute_result"
    }
   ],
   "source": [
    "from qiskit.transpiler.preset_passmanagers import generate_preset_pass_manager\n",
    "\n",
    "### WRITE YOUR CODE BELOW HERE ###\n",
    "# coupling_map: allowed (undirected) edges on your device\n",
    "coupling_map = [[0, 1], [0, 2]]\n",
    "\n",
    "# create a pass manager (default opt_level=1) with that coupling map\n",
    "pm = generate_preset_pass_manager(coupling_map=coupling_map)\n",
    "### YOUR CODE FINISHES HERE    ###\n",
    "\n",
    "# transpile with the pass manager\n",
    "qc_transpiled = pm.run(qc)\n",
    "\n",
    "# visualize the transpiled circuit\n",
    "qc_transpiled.draw(\"mpl\")\n"
   ]
  },
  {
   "cell_type": "code",
   "execution_count": 9,
   "id": "d9f83c90-4401-4190-b6df-60555e37eeb2",
   "metadata": {},
   "outputs": [
    {
     "name": "stdout",
     "output_type": "stream",
     "text": [
      "Submitting your answer. Please wait...\n",
      "Congratulations 🎉! Your answer is correct and has been submitted.\n"
     ]
    }
   ],
   "source": [
    "# Submit your answer using following code\n",
    "grade_lab0_ex2(qc_transpiled)\n"
   ]
  },
  {
   "cell_type": "code",
   "execution_count": 10,
   "id": "52570304-fa11-4e02-b916-879865fc1b08",
   "metadata": {},
   "outputs": [],
   "source": [
    "# Add measurement operations\n",
    "qc.measure_all()\n",
    "\n",
    "# Set up the backend\n",
    "backend = AerSimulator()\n",
    "\n",
    "# Set up the sampler\n",
    "sampler = Sampler(mode=backend)\n",
    "\n",
    "# Submit the circuit to Sampler\n",
    "pm = generate_preset_pass_manager(backend=backend, optimization_level=1)\n",
    "job = sampler.run(pm.run([qc]))\n",
    "\n",
    "# Get the results\n",
    "results_sampler = job.result()\n"
   ]
  },
  {
   "cell_type": "code",
   "execution_count": 11,
   "id": "ce93dab3-0c9a-4e37-960d-774dc87b53d4",
   "metadata": {},
   "outputs": [],
   "source": [
    "# Set up the Estimator\n",
    "estimator = Estimator(mode=backend)\n",
    "\n",
    "# Define some observables\n",
    "ZZZ = SparsePauliOp(\"ZZZ\")\n",
    "ZZX = SparsePauliOp(\"ZZX\")\n",
    "ZII = SparsePauliOp(\"ZII\")\n",
    "XXI = SparsePauliOp(\"XXI\")\n",
    "ZZI = SparsePauliOp(\"ZZI\")\n",
    "III = SparsePauliOp(\"III\")\n",
    "observables = [ZZZ, ZZX, ZII, XXI, ZZI, III]\n",
    "\n",
    "# Submit the circuit to Estimator\n",
    "pub = (qc, observables)\n",
    "job = estimator.run(pubs=[pub])\n",
    "\n",
    "# Get the results\n",
    "results_estimator = job.result()"
   ]
  },
  {
   "cell_type": "code",
   "execution_count": 12,
   "id": "ff94f11c-bc0a-46c1-b7cd-7822052c02b1",
   "metadata": {},
   "outputs": [
    {
     "name": "stdout",
     "output_type": "stream",
     "text": [
      "  Outcomes : {'111': 534, '000': 490}\n"
     ]
    },
    {
     "data": {
      "image/png": "[encoded data removed]",
      "text/plain": [
       "<Figure size 640x480 with 1 Axes>"
      ]
     },
     "metadata": {},
     "output_type": "display_data"
    }
   ],
   "source": [
    "counts_list = results_sampler[0].data.meas.get_counts()\n",
    "print(f\"  Outcomes : {counts_list}\")\n",
    "display(plot_histogram(counts_list, title=\"GHZ state\"))"
   ]
  },
  {
   "cell_type": "code",
   "execution_count": 13,
   "id": "8bd36f7e-353b-4ccf-ab36-c527440d7d93",
   "metadata": {},
   "outputs": [
    {
     "name": "stdout",
     "output_type": "stream",
     "text": [
      "Expectation values: [('ZZZ', np.float64(0.00390625)), ('ZZX', np.float64(-0.01318359375)), ('ZII', np.float64(0.0283203125)), ('XXI', np.float64(-0.013671875)), ('ZZI', np.float64(1.0)), ('III', np.float64(1.0))]\n"
     ]
    },
    {
     "data": {
      "image/png": "[encoded data removed]",
      "text/plain": [
       "<Figure size 640x480 with 1 Axes>"
      ]
     },
     "metadata": {},
     "output_type": "display_data"
    }
   ],
   "source": [
    "exp_values = results_estimator[0].data.evs\n",
    "observables_list = [\"ZZZ\", \"ZZX\", \"ZII\", \"XXI\", \"ZZI\", \"III\"]\n",
    "print(f\"Expectation values: {list(zip(observables_list, exp_values))}\")\n",
    "\n",
    "# Set up our plot\n",
    "container = plt.bar(observables_list, exp_values, width=0.8)\n",
    "# Label each axis\n",
    "plt.xlabel(\"Observables\")\n",
    "plt.ylabel(\"Values\")\n",
    "plt.show()"
   ]
  },
  {
   "cell_type": "code",
   "execution_count": 14,
   "id": "24faa11e-d8c8-4d22-baeb-a075c8834cbf",
   "metadata": {},
   "outputs": [
    {
     "name": "stdout",
     "output_type": "stream",
     "text": [
      "Lab 0: 2/2 exercises completed (100%)\n",
      "    ✅ 1195 participants have completed this lab\n",
      "Lab 1: 0/9 exercises completed (0%)\n",
      "    ✅ 207 participants have completed this lab\n",
      "Lab 2: 0/7 exercises completed (0%)\n",
      "    ✅ 1 participants have completed this lab\n",
      "Lab 3: 0/5 exercises completed (0%)\n",
      "    ✅ 0 participants have completed this lab\n",
      "Lab 4: 0/6 exercises completed (0%)\n",
      "    ✅ 0 participants have completed this lab\n"
     ]
    }
   ],
   "source": [
    "from qc_grader.grader.grade import check_lab_completion_status\n",
    "check_lab_completion_status(\"qgss_2025\")\n"
   ]
  },
  {
   "cell_type": "code",
   "execution_count": null,
   "id": "2e39664a-1f18-4d9f-8dd9-1ec2a5552ac4",
   "metadata": {},
   "outputs": [],
   "source": []
  }
 ],
 "metadata": {
  "kernelspec": {
   "display_name": "Python 3 (ipykernel)",
   "language": "python",
   "name": "python3"
  },
  "language_info": {
   "codemirror_mode": {
    "name": "ipython",
    "version": 3
   },
   "file_extension": ".py",
   "mimetype": "text/x-python",
   "name": "python",
   "nbconvert_exporter": "python",
   "pygments_lexer": "ipython3",
   "version": "3.13.0"
  }
 },
 "nbformat": 4,
 "nbformat_minor": 5
}
